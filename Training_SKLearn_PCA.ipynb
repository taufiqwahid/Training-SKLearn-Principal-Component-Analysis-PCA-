{
  "nbformat": 4,
  "nbformat_minor": 0,
  "metadata": {
    "colab": {
      "name": "Training SKLearn PCA",
      "provenance": [],
      "collapsed_sections": [],
      "authorship_tag": "ABX9TyNWkALFmpE3YB2Qm9AmHFOI",
      "include_colab_link": true
    },
    "kernelspec": {
      "name": "python3",
      "display_name": "Python 3"
    }
  },
  "cells": [
    {
      "cell_type": "markdown",
      "metadata": {
        "id": "view-in-github",
        "colab_type": "text"
      },
      "source": [
        "<a href=\"https://colab.research.google.com/github/taufiqwahid/Training-SKLearn-Principal-Component-Analysis-PCA-/blob/master/Training_SKLearn_PCA.ipynb\" target=\"_parent\"><img src=\"https://colab.research.google.com/assets/colab-badge.svg\" alt=\"Open In Colab\"/></a>"
      ]
    },
    {
      "cell_type": "code",
      "metadata": {
        "id": "AezP93EQSxN7",
        "colab_type": "code",
        "colab": {}
      },
      "source": [
        "# Latihan SKLearn PCA\n",
        "\n",
        "from sklearn.decomposition import PCA #mengimpor library PCA\n",
        "from sklearn.model_selection import train_test_split #library train_model_split untuk modelnya\n",
        "from sklearn import datasets #dapatkan data dari default sklearn\n"
      ],
      "execution_count": 0,
      "outputs": []
    },
    {
      "cell_type": "code",
      "metadata": {
        "id": "9KpCXt5EjeRt",
        "colab_type": "code",
        "colab": {}
      },
      "source": [
        "iris = datasets.load_iris() #memuat datanya\n",
        "atribut = iris.data #inisialisasi atribur pada data iris pada objek data\n",
        "label = iris.target #menginisialisasi label pada data iris pada objek target\n",
        "\n",
        "# bagi dataset menjadi train set dan test set\n",
        "X_train, X_test, y_train, y_test = train_test_split(atribut, label, test_size=0.2, random_state=1) #pemisahan atau pembagian data uji dan data latih\n"
      ],
      "execution_count": 0,
      "outputs": []
    },
    {
      "cell_type": "code",
      "metadata": {
        "id": "o7FcEZo2lRf-",
        "colab_type": "code",
        "outputId": "d79d4351-cc3d-4437-e407-39ac5aa11119",
        "colab": {
          "base_uri": "https://localhost:8080/",
          "height": 34
        }
      },
      "source": [
        "from sklearn import tree #mengimpor tree pada sklearn\n",
        "\n",
        "#MODEL PERTAMA\n",
        "decision_tree = tree.DecisionTreeClassifier() #memanggil metode DTC\n",
        "model_pertama = decision_tree.fit(X_train, y_train) #membuat model dari DTC dan memaasukkan data latih\n",
        "model_pertama.score(X_test,y_test) #setelah dilatih, mencoba model menggunakan data uji\n"
      ],
      "execution_count": 0,
      "outputs": [
        {
          "output_type": "execute_result",
          "data": {
            "text/plain": [
              "0.9666666666666667"
            ]
          },
          "metadata": {
            "tags": []
          },
          "execution_count": 3
        }
      ]
    },
    {
      "cell_type": "code",
      "metadata": {
        "id": "i92kXFyWt5-9",
        "colab_type": "code",
        "outputId": "ae079abd-2d06-438b-d9a9-750a5323cdbd",
        "colab": {
          "base_uri": "https://localhost:8080/",
          "height": 34
        }
      },
      "source": [
        "#membuat objek PCA dengan 2 principal component\n",
        "\n",
        "pca = PCA(n_components=2) #dikarenakan hasil darimodelnya PCA nya sudah baik 0.966 maka PCAnya bisa dikurangi yg awlnya 4\n",
        "\n",
        "#mengaplikasikan PCA pada dataset\n",
        "pca_attributes = pca.fit_transform(X_train) #mengubah dan memasukkan data train pada model dgn tujuan mengurangi jumlah atribut tanpa mengurangi informasi\n",
        "\n",
        "# CEK HASIL DARI SBLM DAN SEUSDAH DI PCA\n",
        "# print(\"ATRIBUTTTT = \",X_train)\n",
        "# print(\"PCA = \",pca_attributes)\n",
        "\n",
        "#melihat variance/menghilangkan informasi tidak signifikan dari setiap atrbut\n",
        "pca.explained_variance_ratio_     #menampilkan variance/informasi yang dimiliki atribut component PCAnya \n"
      ],
      "execution_count": 0,
      "outputs": [
        {
          "output_type": "execute_result",
          "data": {
            "text/plain": [
              "array([0.92848323, 0.04764372])"
            ]
          },
          "metadata": {
            "tags": []
          },
          "execution_count": 4
        }
      ]
    },
    {
      "cell_type": "code",
      "metadata": {
        "id": "0IdxI36LqULp",
        "colab_type": "code",
        "outputId": "2105bcfd-bcd9-4123-a0d8-2e1c9bf506f2",
        "colab": {
          "base_uri": "https://localhost:8080/",
          "height": 34
        }
      },
      "source": [
        "#MODEL KEDUA\n",
        "pca = PCA(n_components = 4) #mengatur principal component CPAnya\n",
        "X_train_pca = pca.fit_transform(X_train) #mengubah data X_train memasukkannya pada CPA\n",
        "X_test_pca = pca.fit_transform(X_test) #mengubah data X_test memasukkannya pada CPA\n",
        "\n",
        "pca.explained_variance_ratio_    #menghitung variance dari principal CPA dari componen yg di atur\n"
      ],
      "execution_count": 0,
      "outputs": [
        {
          "output_type": "execute_result",
          "data": {
            "text/plain": [
              "array([0.9163887 , 0.06842697, 0.00916852, 0.00601582])"
            ]
          },
          "metadata": {
            "tags": []
          },
          "execution_count": 5
        }
      ]
    },
    {
      "cell_type": "code",
      "metadata": {
        "id": "5MnCdoMRFHvo",
        "colab_type": "code",
        "outputId": "ece7f45a-c376-41b2-ae81-4f2f7eedfa33",
        "colab": {
          "base_uri": "https://localhost:8080/",
          "height": 34
        }
      },
      "source": [
        "model_kedua = decision_tree.fit(X_train_pca,y_train) #menginisialisasi model kedua pada DTC dengan data latihnya\n",
        "model_kedua.score(X_test_pca, y_test)  #menampilkan hasil dari modelkedua dgn menggunakan data yang ingin di uji\n"
      ],
      "execution_count": 0,
      "outputs": [
        {
          "output_type": "execute_result",
          "data": {
            "text/plain": [
              "0.9"
            ]
          },
          "metadata": {
            "tags": []
          },
          "execution_count": 6
        }
      ]
    }
  ]
}